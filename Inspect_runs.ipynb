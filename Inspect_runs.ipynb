{
 "cells": [
  {
   "cell_type": "code",
   "execution_count": 1,
   "id": "aed3e32d",
   "metadata": {},
   "outputs": [
    {
     "name": "stdout",
     "output_type": "stream",
     "text": [
      "Matching files:\n",
      "testfile_2023-10-24-14:42:21\n",
      "testfile_2023-10-24-16:36:48\n",
      "testfile_2023-10-24-14:36:42\n",
      "testfile_2023-10-24-17:03:30\n",
      "testfile_2023-10-24-16:17:44\n",
      "testfile_2023-10-24-16:44:25\n",
      "testfile_2023-10-24-15:05:15\n",
      "testfile_2023-10-24-14:53:48\n",
      "testfile_2023-10-24-17:34:02\n",
      "testfile_2023-10-24-16:29:10\n",
      "testfile_2023-10-24-16:02:28\n",
      "testfile_2023-10-24-14:34:52\n",
      "testfile_2023-10-24-15:47:13\n",
      "testfile_2023-10-24-14:38:32\n",
      "testfile_2023-10-24-15:01:26\n",
      "testfile_2023-10-24-16:52:03\n",
      "testfile_2023-10-24-17:22:35\n",
      "testfile_2023-10-24-15:54:51\n",
      "testfile_2023-10-24-14:29:23\n",
      "testfile_2023-10-24-15:20:30\n",
      "testfile_2023-10-24-16:25:21\n",
      "testfile_2023-10-24-14:31:13\n",
      "testfile_2023-10-24-15:35:46\n",
      "testfile_2023-10-24-16:40:37\n",
      "testfile_2023-10-24-14:46:10\n",
      "testfile_2023-10-24-17:37:51\n",
      "testfile_2023-10-24-17:45:29\n",
      "testfile_2023-10-24-15:16:42\n",
      "testfile_2023-10-24-15:51:02\n",
      "testfile_2023-10-24-17:07:19\n",
      "testfile_2023-10-24-15:58:40\n",
      "testfile_2023-10-24-15:12:52\n",
      "testfile_2023-10-24-15:39:35\n",
      "testfile_2023-10-24-17:52:55\n",
      "testfile_2023-10-24-14:23:47\n",
      "testfile_2023-10-24-15:43:24\n",
      "testfile_2023-10-24-14:49:59\n",
      "testfile_2023-10-24-15:24:19\n",
      "testfile_2023-10-24-17:49:18\n",
      "testfile_2023-10-24-16:21:32\n",
      "testfile_2023-10-24-14:57:37\n",
      "testfile_2023-10-24-15:28:08\n",
      "testfile_2023-10-24-15:31:57\n",
      "testfile_2023-10-24-17:30:13\n",
      "testfile_2023-10-24-17:14:57\n",
      "testfile_2023-10-24-17:11:08\n",
      "testfile_2023-10-24-14:25:44\n",
      "testfile_2023-10-24-14:27:33\n",
      "testfile_2023-10-24-17:41:40\n",
      "testfile_2023-10-24-16:13:55\n",
      "testfile_2023-10-24-16:59:41\n",
      "testfile_2023-10-24-16:10:06\n",
      "testfile_2023-10-24-16:55:52\n",
      "testfile_2023-10-24-16:32:59\n",
      "testfile_2023-10-24-17:18:46\n",
      "testfile_2023-10-24-15:09:04\n",
      "testfile_2023-10-24-16:48:14\n",
      "testfile_2023-10-24-14:33:03\n",
      "testfile_2023-10-24-16:06:17\n",
      "testfile_2023-10-24-14:24:45\n",
      "testfile_2023-10-24-17:26:24\n"
     ]
    }
   ],
   "source": [
    "import os\n",
    "import fnmatch\n",
    "\n",
    "directory = \"./\"\n",
    "search_string = \"testfile\"\n",
    "\n",
    "matching_files = []\n",
    "\n",
    "for filename in os.listdir(directory):\n",
    "    if fnmatch.fnmatch(filename, f\"*{search_string}*\"):\n",
    "        matching_files.append(filename)\n",
    "\n",
    "print(\"Matching files:\")\n",
    "for file in matching_files:\n",
    "    print(file)"
   ]
  },
  {
   "cell_type": "code",
   "execution_count": 11,
   "id": "e34e58c2",
   "metadata": {},
   "outputs": [],
   "source": [
    "with open(matching_files[-1], 'r') as file:\n",
    "    content = file.readlines()\n",
    "    #print(content)"
   ]
  },
  {
   "cell_type": "code",
   "execution_count": 12,
   "id": "b99ecffa",
   "metadata": {},
   "outputs": [
    {
     "name": "stdout",
     "output_type": "stream",
     "text": [
      "['1', '2', '3']\n"
     ]
    }
   ],
   "source": [
    "type(content)\n",
    "ls = ['1', '2', '3']\n",
    "print(ls)"
   ]
  },
  {
   "cell_type": "code",
   "execution_count": 13,
   "id": "95aa2b64",
   "metadata": {},
   "outputs": [],
   "source": [
    "import numpy as np\n",
    "\n",
    "content = [[float(x) for x in row.split(',')] for row in content]\n",
    "\n",
    "matrix = np.asarray(content[1:])"
   ]
  },
  {
   "cell_type": "code",
   "execution_count": 14,
   "id": "34e2562b",
   "metadata": {},
   "outputs": [
    {
     "data": {
      "text/plain": [
       "(936, 768)"
      ]
     },
     "execution_count": 14,
     "metadata": {},
     "output_type": "execute_result"
    }
   ],
   "source": [
    "matrix.shape"
   ]
  },
  {
   "cell_type": "code",
   "execution_count": 15,
   "id": "cf829155",
   "metadata": {},
   "outputs": [
    {
     "data": {
      "text/plain": [
       "768"
      ]
     },
     "execution_count": 15,
     "metadata": {},
     "output_type": "execute_result"
    }
   ],
   "source": [
    "len(matrix.mean(axis=0))"
   ]
  },
  {
   "cell_type": "code",
   "execution_count": 16,
   "id": "e1020df0",
   "metadata": {},
   "outputs": [],
   "source": [
    "mean_weights = matrix.mean(axis=0)"
   ]
  },
  {
   "cell_type": "code",
   "execution_count": 17,
   "id": "ec89eb47",
   "metadata": {},
   "outputs": [
    {
     "data": {
      "text/plain": [
       "0.9999999989957266"
      ]
     },
     "execution_count": 17,
     "metadata": {},
     "output_type": "execute_result"
    }
   ],
   "source": [
    "min(mean_weights)\n",
    "max(mean_weights)"
   ]
  },
  {
   "cell_type": "code",
   "execution_count": 18,
   "id": "5c59cacf",
   "metadata": {},
   "outputs": [],
   "source": [
    "%matplotlib inline"
   ]
  },
  {
   "cell_type": "code",
   "execution_count": 19,
   "id": "6c645fc5",
   "metadata": {},
   "outputs": [
    {
     "data": {
      "text/plain": [
       "(array([294., 125., 178.,  75.,  34.,  21.,  15.,   9.,   7.,  10.]),\n",
       " array([0.01849288, 0.11664359, 0.2147943 , 0.31294502, 0.41109573,\n",
       "        0.50924644, 0.60739715, 0.70554786, 0.80369858, 0.90184929,\n",
       "        1.        ]),\n",
       " <BarContainer object of 10 artists>)"
      ]
     },
     "execution_count": 19,
     "metadata": {},
     "output_type": "execute_result"
    },
    {
     "data": {
      "image/png": "[encoded data removed]",
      "text/plain": [
       "<Figure size 432x288 with 1 Axes>"
      ]
     },
     "metadata": {
      "needs_background": "light"
     },
     "output_type": "display_data"
    }
   ],
   "source": [
    "import matplotlib.pyplot as plt\n",
    "\n",
    "plt.hist(mean_weights, bins=10)"
   ]
  },
  {
   "cell_type": "code",
   "execution_count": null,
   "id": "6ed9a002",
   "metadata": {},
   "outputs": [],
   "source": []
  }
 ],
 "metadata": {
  "kernelspec": {
   "display_name": "Python 3 (ipykernel)",
   "language": "python",
   "name": "python3"
  },
  "language_info": {
   "codemirror_mode": {
    "name": "ipython",
    "version": 3
   },
   "file_extension": ".py",
   "mimetype": "text/x-python",
   "name": "python",
   "nbconvert_exporter": "python",
   "pygments_lexer": "ipython3",
   "version": "3.10.4"
  }
 },
 "nbformat": 4,
 "nbformat_minor": 5
}
